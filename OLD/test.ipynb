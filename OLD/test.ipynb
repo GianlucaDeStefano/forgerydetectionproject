{
 "cells": [
  {
   "cell_type": "code",
   "execution_count": 1,
   "metadata": {},
   "outputs": [
    {
     "name": "stdout",
     "output_type": "stream",
     "text": [
      "metadata WIPED\n"
     ]
    }
   ],
   "source": [
    "from Utilities.Visualizers.NoiseprintVisualizer import NoiseprintVisualizer\n",
    "\n",
    "visualizer = NoiseprintVisualizer()"
   ]
  },
  {
   "cell_type": "code",
   "execution_count": 2,
   "metadata": {},
   "outputs": [
    {
     "name": "stdout",
     "output_type": "stream",
     "text": [
      "\n",
      " \n",
      " NEW SESSION CREATED \n",
      " \n",
      "\n",
      "WARNING:tensorflow:From /home/c01gide/CISPA-home/tesi/Detectors/Noiseprint/noiseprintEngine.py:381: The name tf.keras.backend.set_session is deprecated. Please use tf.compat.v1.keras.backend.set_session instead.\n",
      "\n",
      "metadata WIPED\n",
      "metadata WIPED\n",
      "Extracting features..\n",
      "Completed in 3.7409400939941406s\n",
      "Clustering...\n",
      "16.65384320391985\n",
      "Completed in 1.2574663162231445s\n"
     ]
    }
   ],
   "source": [
    "image_path = '/home/c01gide/CISPA-home/tesi/Data/SampleAnalysis/Mimicry/Attack-Noiseprint-DSO/1677914982.4525623/outputs/attackedSamples/visualizations/splicing-01.png'\n",
    "# Analyze the sample\n",
    "visualizer.process_sample(image_path)\n",
    "visualizer.save_prediction_pipeline('./output_normal.png')"
   ]
  },
  {
   "cell_type": "code",
   "execution_count": 4,
   "metadata": {},
   "outputs": [
    {
     "data": {
      "text/plain": [
       "True"
      ]
     },
     "execution_count": 4,
     "metadata": {},
     "output_type": "execute_result"
    }
   ],
   "source": [
    "import numpy as np\n",
    "import cv2\n",
    "\n",
    "img = cv2.imread(image_path)\n",
    "mean = 0.0   # some constant\n",
    "std = 1.0    # some constant (standard deviation)\n",
    "noisy_img = img + np.random.normal(mean, std, img.shape)\n",
    "noisy_img_clipped = np.clip(noisy_img, 0, 255)\n",
    "cv2.imwrite(\"/home/c01gide/CISPA-home/tesi/image_with_nose.png\", img)"
   ]
  },
  {
   "cell_type": "code",
   "execution_count": 5,
   "metadata": {},
   "outputs": [
    {
     "name": "stdout",
     "output_type": "stream",
     "text": [
      "\n",
      " \n",
      " NEW SESSION CREATED \n",
      " \n",
      "\n",
      "metadata WIPED\n",
      "metadata WIPED\n",
      "Extracting features..\n",
      "Completed in 0.12545037269592285s\n",
      "Clustering...\n",
      "16.620736405416828\n",
      "Completed in 1.0231328010559082s\n"
     ]
    }
   ],
   "source": [
    "image_path = \"/home/c01gide/CISPA-home/tesi/image_with_nose.png\"\n",
    "# Analyze the sample\n",
    "visualizer.process_sample(image_path)\n",
    "visualizer.save_prediction_pipeline('/home/c01gide/CISPA-home/tesi/output_with_noise.png')"
   ]
  },
  {
   "cell_type": "code",
   "execution_count": null,
   "metadata": {},
   "outputs": [],
   "source": []
  }
 ],
 "metadata": {
  "kernelspec": {
   "display_name": "Python 3",
   "language": "python",
   "name": "python3"
  },
  "language_info": {
   "codemirror_mode": {
    "name": "ipython",
    "version": 3
   },
   "file_extension": ".py",
   "mimetype": "text/x-python",
   "name": "python",
   "nbconvert_exporter": "python",
   "pygments_lexer": "ipython3",
   "version": "3.8.5"
  }
 },
 "nbformat": 4,
 "nbformat_minor": 1
}
