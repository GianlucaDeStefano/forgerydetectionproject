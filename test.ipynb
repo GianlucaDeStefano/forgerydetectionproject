{
 "cells": [
  {
   "cell_type": "code",
   "execution_count": null,
   "metadata": {
    "collapsed": true
   },
   "outputs": [],
   "source": [
    "from Utilities.Visualizers.NoiseprintVisualizer import NoiseprintVisualizer\n",
    "\n",
    "visualizer = NoiseprintVisualizer()"
   ]
  },
  {
   "cell_type": "code",
   "execution_count": null,
   "outputs": [],
   "source": [
    "image_path = './Data/SampleAnalysis/Mimicry/Attack-Noiseprint-DSO/1677914982.4525623/outputs/attackedSamples/visualization/splicing-01.png'\n",
    "# Analyze the sample\n",
    "visualizer.process_sample(image_path)\n",
    "visualizer.save_prediction_pipeline('./output_normal.png')"
   ],
   "metadata": {
    "collapsed": false
   }
  },
  {
   "cell_type": "code",
   "execution_count": null,
   "outputs": [],
   "source": [
    "import numpy as np\n",
    "import cv2\n",
    "\n",
    "img = cv2.imread(image_path,mode='RGB')\n",
    "mean = 0.0   # some constant\n",
    "std = 1.0    # some constant (standard deviation)\n",
    "noisy_img = img + np.random.normal(mean, std, img.shape)\n",
    "noisy_img_clipped = np.clip(noisy_img, 0, 255)\n",
    "cv2.imwrite(\"./image_with_nose.png\", img)"
   ],
   "metadata": {
    "collapsed": false
   }
  },
  {
   "cell_type": "code",
   "execution_count": null,
   "outputs": [],
   "source": [
    "image_path = \"./image_with_nose.png\"\n",
    "# Analyze the sample\n",
    "visualizer.process_sample(image_path)\n",
    "visualizer.save_prediction_pipeline('./output_with_noise.png')"
   ],
   "metadata": {
    "collapsed": false
   }
  }
 ],
 "metadata": {
  "kernelspec": {
   "display_name": "Python 3",
   "language": "python",
   "name": "python3"
  },
  "language_info": {
   "codemirror_mode": {
    "name": "ipython",
    "version": 2
   },
   "file_extension": ".py",
   "mimetype": "text/x-python",
   "name": "python",
   "nbconvert_exporter": "python",
   "pygments_lexer": "ipython2",
   "version": "2.7.6"
  }
 },
 "nbformat": 4,
 "nbformat_minor": 0
}
